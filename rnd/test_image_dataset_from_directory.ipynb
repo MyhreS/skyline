{
 "cells": [
  {
   "cell_type": "code",
   "execution_count": 6,
   "metadata": {},
   "outputs": [],
   "source": [
    "from tensorflow.keras.utils import image_dataset_from_directory\n",
    "import numpy as np"
   ]
  },
  {
   "cell_type": "code",
   "execution_count": 9,
   "metadata": {},
   "outputs": [
    {
     "name": "stdout",
     "output_type": "stream",
     "text": [
      "Found 15 files belonging to 5 classes.\n"
     ]
    }
   ],
   "source": [
    "\n",
    "dataset = image_dataset_from_directory(\n",
    "    \"../cache/test_folder/\",\n",
    "    seed=123,\n",
    "    image_size=(63, 512),\n",
    "    batch_size=32,\n",
    "    color_mode=\"grayscale\",\n",
    ")\n",
    "\n"
   ]
  },
  {
   "cell_type": "code",
   "execution_count": 10,
   "metadata": {},
   "outputs": [
    {
     "name": "stdout",
     "output_type": "stream",
     "text": [
      "Class 1 contains 4 samples.\n",
      "Class 3 contains 3 samples.\n",
      "Class 0 contains 5 samples.\n",
      "Class 2 contains 2 samples.\n",
      "Class 4 contains 1 samples.\n"
     ]
    }
   ],
   "source": [
    "class_counts = {}\n",
    "for image, label in dataset.unbatch().take(-1):\n",
    "    label = label.numpy()\n",
    "    if type(label) != np.int32:\n",
    "        if len(label) == 1:  # Binary\n",
    "            label = int(label[0])\n",
    "        else:\n",
    "            label = label.argmax()  # One-hot\n",
    "\n",
    "    # Count the label\n",
    "    if label in class_counts:\n",
    "        class_counts[label] += 1\n",
    "    else:\n",
    "        class_counts[label] = 1\n",
    "\n",
    "# Print the class counts\n",
    "for class_index, count in class_counts.items():\n",
    "    print(f\"Class {class_index} contains {count} samples.\")"
   ]
  },
  {
   "cell_type": "code",
   "execution_count": 11,
   "metadata": {},
   "outputs": [
    {
     "name": "stdout",
     "output_type": "stream",
     "text": [
      "['drone', 'non-drone', 'speech', 'test_animal', 'test_nature']\n"
     ]
    }
   ],
   "source": [
    "classes = [\"drone\", \"non-drone\", \"speech\", \"test_animal\", \"test_nature\"]\n",
    "# Sort alphabetically\n",
    "classes.sort()\n",
    "print(classes)"
   ]
  },
  {
   "cell_type": "code",
   "execution_count": null,
   "metadata": {},
   "outputs": [],
   "source": []
  }
 ],
 "metadata": {
  "kernelspec": {
   "display_name": "skylinevenv",
   "language": "python",
   "name": "python3"
  },
  "language_info": {
   "codemirror_mode": {
    "name": "ipython",
    "version": 3
   },
   "file_extension": ".py",
   "mimetype": "text/x-python",
   "name": "python",
   "nbconvert_exporter": "python",
   "pygments_lexer": "ipython3",
   "version": "3.10.11"
  }
 },
 "nbformat": 4,
 "nbformat_minor": 2
}
