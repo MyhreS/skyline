{
 "cells": [
  {
   "cell_type": "code",
   "execution_count": 1,
   "metadata": {},
   "outputs": [],
   "source": [
    "import pandas as pd\n",
    "PATH_TO_INPUT_DATA = \"/Users/simonmyhre/workdir/gitdir/sqml/projects/sm_multiclass_masters_project/pull_data/cache/datav3\"\n",
    "# labels: \"electric_quad_drone\", \"racing_drone\", \"electric_fixedwing_drone\", \"petrol_fixedwing_drone\", \"dvc_non_drone\", \"animal\", \"speech\", \"TUT_dcase\", \"nature_chernobyl\""
   ]
  },
  {
   "cell_type": "code",
   "execution_count": 2,
   "metadata": {},
   "outputs": [
    {
     "data": {
      "text/html": [
       "<div>\n",
       "<style scoped>\n",
       "    .dataframe tbody tr th:only-of-type {\n",
       "        vertical-align: middle;\n",
       "    }\n",
       "\n",
       "    .dataframe tbody tr th {\n",
       "        vertical-align: top;\n",
       "    }\n",
       "\n",
       "    .dataframe thead th {\n",
       "        text-align: right;\n",
       "    }\n",
       "</style>\n",
       "<table border=\"1\" class=\"dataframe\">\n",
       "  <thead>\n",
       "    <tr style=\"text-align: right;\">\n",
       "      <th></th>\n",
       "      <th>sqbundle_id</th>\n",
       "      <th>wav_duration_sec</th>\n",
       "      <th>label_duration_sec</th>\n",
       "      <th>label_relative_start_sec</th>\n",
       "      <th>label_relative_end_sec</th>\n",
       "      <th>label</th>\n",
       "      <th>file_name</th>\n",
       "      <th>split</th>\n",
       "    </tr>\n",
       "  </thead>\n",
       "  <tbody>\n",
       "    <tr>\n",
       "      <th>0</th>\n",
       "      <td>32500921bfa969d37d0b36240f8e59d8</td>\n",
       "      <td>24.422369</td>\n",
       "      <td>24.422369</td>\n",
       "      <td>0.000000</td>\n",
       "      <td>24.422369</td>\n",
       "      <td>electric_quad_drone</td>\n",
       "      <td>b38b70ca19ee224c3ba056f0de71de2b.wav</td>\n",
       "      <td>train</td>\n",
       "    </tr>\n",
       "    <tr>\n",
       "      <th>1</th>\n",
       "      <td>340dd60b47d2e8d17d4ab6f7c81684f9</td>\n",
       "      <td>75.401442</td>\n",
       "      <td>38.190698</td>\n",
       "      <td>0.000000</td>\n",
       "      <td>38.190698</td>\n",
       "      <td>electric_quad_drone</td>\n",
       "      <td>213e5d27543966361c8b4475b4fc4cd0.wav</td>\n",
       "      <td>train</td>\n",
       "    </tr>\n",
       "    <tr>\n",
       "      <th>2</th>\n",
       "      <td>340dd60b47d2e8d17d4ab6f7c81684f9</td>\n",
       "      <td>75.401442</td>\n",
       "      <td>36.195621</td>\n",
       "      <td>38.190698</td>\n",
       "      <td>74.386319</td>\n",
       "      <td>electric_quad_drone</td>\n",
       "      <td>213e5d27543966361c8b4475b4fc4cd0.wav</td>\n",
       "      <td>train</td>\n",
       "    </tr>\n",
       "    <tr>\n",
       "      <th>3</th>\n",
       "      <td>340dd60b47d2e8d17d4ab6f7c81684f9</td>\n",
       "      <td>75.401442</td>\n",
       "      <td>1.015123</td>\n",
       "      <td>74.386319</td>\n",
       "      <td>75.401442</td>\n",
       "      <td>electric_quad_drone</td>\n",
       "      <td>213e5d27543966361c8b4475b4fc4cd0.wav</td>\n",
       "      <td>train</td>\n",
       "    </tr>\n",
       "    <tr>\n",
       "      <th>4</th>\n",
       "      <td>399328d9efc94ec8cba799ffcaac4eec</td>\n",
       "      <td>36.592857</td>\n",
       "      <td>36.592857</td>\n",
       "      <td>0.000000</td>\n",
       "      <td>36.592857</td>\n",
       "      <td>electric_quad_drone</td>\n",
       "      <td>befe19d94a8ffcdd09cc0beb0be092f0.wav</td>\n",
       "      <td>train</td>\n",
       "    </tr>\n",
       "    <tr>\n",
       "      <th>...</th>\n",
       "      <td>...</td>\n",
       "      <td>...</td>\n",
       "      <td>...</td>\n",
       "      <td>...</td>\n",
       "      <td>...</td>\n",
       "      <td>...</td>\n",
       "      <td>...</td>\n",
       "      <td>...</td>\n",
       "    </tr>\n",
       "    <tr>\n",
       "      <th>57571</th>\n",
       "      <td>81b7c26211b4c05b4b94031daa2561.wav</td>\n",
       "      <td>2.080000</td>\n",
       "      <td>1.600000</td>\n",
       "      <td>0.140000</td>\n",
       "      <td>1.740000</td>\n",
       "      <td>speech</td>\n",
       "      <td>81b7c26211b4c05b4b94031daa2561.wav</td>\n",
       "      <td>train</td>\n",
       "    </tr>\n",
       "    <tr>\n",
       "      <th>57572</th>\n",
       "      <td>8f2c2f139054d5d6fdb689673277c9.wav</td>\n",
       "      <td>3.993625</td>\n",
       "      <td>3.710000</td>\n",
       "      <td>0.130000</td>\n",
       "      <td>3.840000</td>\n",
       "      <td>speech</td>\n",
       "      <td>8f2c2f139054d5d6fdb689673277c9.wav</td>\n",
       "      <td>train</td>\n",
       "    </tr>\n",
       "    <tr>\n",
       "      <th>57573</th>\n",
       "      <td>c81aa5d2d07bdf2bb8305bd508ee83.wav</td>\n",
       "      <td>1.497625</td>\n",
       "      <td>1.270000</td>\n",
       "      <td>0.140000</td>\n",
       "      <td>1.410000</td>\n",
       "      <td>speech</td>\n",
       "      <td>c81aa5d2d07bdf2bb8305bd508ee83.wav</td>\n",
       "      <td>train</td>\n",
       "    </tr>\n",
       "    <tr>\n",
       "      <th>57574</th>\n",
       "      <td>bbbe72c790331e6facb7bbabb78c1c.wav</td>\n",
       "      <td>2.572812</td>\n",
       "      <td>2.300000</td>\n",
       "      <td>0.140000</td>\n",
       "      <td>2.440000</td>\n",
       "      <td>speech</td>\n",
       "      <td>bbbe72c790331e6facb7bbabb78c1c.wav</td>\n",
       "      <td>train</td>\n",
       "    </tr>\n",
       "    <tr>\n",
       "      <th>57575</th>\n",
       "      <td>4b066b144b4db4538b0229c18c1f15.wav</td>\n",
       "      <td>3.596812</td>\n",
       "      <td>2.790000</td>\n",
       "      <td>0.150000</td>\n",
       "      <td>2.940000</td>\n",
       "      <td>speech</td>\n",
       "      <td>4b066b144b4db4538b0229c18c1f15.wav</td>\n",
       "      <td>train</td>\n",
       "    </tr>\n",
       "  </tbody>\n",
       "</table>\n",
       "<p>57576 rows × 8 columns</p>\n",
       "</div>"
      ],
      "text/plain": [
       "                              sqbundle_id  wav_duration_sec  \\\n",
       "0        32500921bfa969d37d0b36240f8e59d8         24.422369   \n",
       "1        340dd60b47d2e8d17d4ab6f7c81684f9         75.401442   \n",
       "2        340dd60b47d2e8d17d4ab6f7c81684f9         75.401442   \n",
       "3        340dd60b47d2e8d17d4ab6f7c81684f9         75.401442   \n",
       "4        399328d9efc94ec8cba799ffcaac4eec         36.592857   \n",
       "...                                   ...               ...   \n",
       "57571  81b7c26211b4c05b4b94031daa2561.wav          2.080000   \n",
       "57572  8f2c2f139054d5d6fdb689673277c9.wav          3.993625   \n",
       "57573  c81aa5d2d07bdf2bb8305bd508ee83.wav          1.497625   \n",
       "57574  bbbe72c790331e6facb7bbabb78c1c.wav          2.572812   \n",
       "57575  4b066b144b4db4538b0229c18c1f15.wav          3.596812   \n",
       "\n",
       "       label_duration_sec  label_relative_start_sec  label_relative_end_sec  \\\n",
       "0               24.422369                  0.000000               24.422369   \n",
       "1               38.190698                  0.000000               38.190698   \n",
       "2               36.195621                 38.190698               74.386319   \n",
       "3                1.015123                 74.386319               75.401442   \n",
       "4               36.592857                  0.000000               36.592857   \n",
       "...                   ...                       ...                     ...   \n",
       "57571            1.600000                  0.140000                1.740000   \n",
       "57572            3.710000                  0.130000                3.840000   \n",
       "57573            1.270000                  0.140000                1.410000   \n",
       "57574            2.300000                  0.140000                2.440000   \n",
       "57575            2.790000                  0.150000                2.940000   \n",
       "\n",
       "                     label                             file_name  split  \n",
       "0      electric_quad_drone  b38b70ca19ee224c3ba056f0de71de2b.wav  train  \n",
       "1      electric_quad_drone  213e5d27543966361c8b4475b4fc4cd0.wav  train  \n",
       "2      electric_quad_drone  213e5d27543966361c8b4475b4fc4cd0.wav  train  \n",
       "3      electric_quad_drone  213e5d27543966361c8b4475b4fc4cd0.wav  train  \n",
       "4      electric_quad_drone  befe19d94a8ffcdd09cc0beb0be092f0.wav  train  \n",
       "...                    ...                                   ...    ...  \n",
       "57571               speech    81b7c26211b4c05b4b94031daa2561.wav  train  \n",
       "57572               speech    8f2c2f139054d5d6fdb689673277c9.wav  train  \n",
       "57573               speech    c81aa5d2d07bdf2bb8305bd508ee83.wav  train  \n",
       "57574               speech    bbbe72c790331e6facb7bbabb78c1c.wav  train  \n",
       "57575               speech    4b066b144b4db4538b0229c18c1f15.wav  train  \n",
       "\n",
       "[57576 rows x 8 columns]"
      ]
     },
     "execution_count": 2,
     "metadata": {},
     "output_type": "execute_result"
    }
   ],
   "source": [
    "# Read .csv file\n",
    "df = pd.read_csv(PATH_TO_INPUT_DATA + \"/data.csv\")\n",
    "df[\"split\"] = \"train\"\n",
    "df"
   ]
  },
  {
   "cell_type": "code",
   "execution_count": 3,
   "metadata": {},
   "outputs": [],
   "source": [
    "def set_test_split(df, split_name, amount_of_sqbundles):\n",
    "    df = df.copy()\n",
    "    duration_of_df = df[\"wav_duration_sec\"].sum()\n",
    "    print(f\"Duration of df: {duration_of_df}\")\n",
    "    sqbundles = df[\"sqbundle_id\"].unique()\n",
    "    test_sqbundles = sqbundles[:amount_of_sqbundles]\n",
    "    df.loc[df[\"sqbundle_id\"].isin(test_sqbundles), \"split\"] = split_name\n",
    "    duration_split = df[df[\"split\"] == split_name][\"wav_duration_sec\"].sum()\n",
    "    print(f\"Duration of {split_name} split: {duration_split}\")\n",
    "    return df\n",
    "\n",
    "    \n"
   ]
  },
  {
   "cell_type": "code",
   "execution_count": 4,
   "metadata": {},
   "outputs": [
    {
     "name": "stdout",
     "output_type": "stream",
     "text": [
      "Duration of df: 255152.344931026\n",
      "Duration of test_electric_quad_drone split: 1713.7081130109998\n"
     ]
    }
   ],
   "source": [
    "\n",
    "electric_quad_drone_df = df[df[\"label\"] == \"electric_quad_drone\"]\n",
    "electric_quad_drone_df_with_test = set_test_split(electric_quad_drone_df, \"test_electric_quad_drone\", 20)\n"
   ]
  },
  {
   "cell_type": "code",
   "execution_count": 5,
   "metadata": {},
   "outputs": [
    {
     "name": "stdout",
     "output_type": "stream",
     "text": [
      "Duration of df: 19897.328585442\n",
      "Duration of test_racing_drone split: 1448.1835195200001\n"
     ]
    }
   ],
   "source": [
    "racing_drone_df = df[df[\"label\"] == \"racing_drone\"]\n",
    "racing_drone_df_with_test = set_test_split(racing_drone_df, \"test_racing_drone\", 8)\n"
   ]
  },
  {
   "cell_type": "code",
   "execution_count": 6,
   "metadata": {},
   "outputs": [
    {
     "name": "stdout",
     "output_type": "stream",
     "text": [
      "Duration of df: 7569.5336148940005\n",
      "Duration of test_electric_fixedwing_drone split: 1602.68292181\n"
     ]
    }
   ],
   "source": [
    "electric_fixedwing_drone_df = df[df[\"label\"] == \"electric_fixedwing_drone\"]\n",
    "electric_fixedwing_drone_df_with_test = set_test_split(electric_fixedwing_drone_df, \"test_electric_fixedwing_drone\", 5)"
   ]
  },
  {
   "cell_type": "code",
   "execution_count": 7,
   "metadata": {},
   "outputs": [
    {
     "name": "stdout",
     "output_type": "stream",
     "text": [
      "Duration of df: 9795.039197365\n",
      "Duration of test_petrol_fixedwing_drone split: 963.015829936\n"
     ]
    }
   ],
   "source": [
    "petrol_fixedwing_drone_df = df[df[\"label\"] == \"petrol_fixedwing_drone\"]\n",
    "petrol_fixedwing_drone_df_with_test = set_test_split(petrol_fixedwing_drone_df, \"test_petrol_fixedwing_drone\", 11)"
   ]
  },
  {
   "cell_type": "code",
   "execution_count": 8,
   "metadata": {},
   "outputs": [
    {
     "name": "stdout",
     "output_type": "stream",
     "text": [
      "Duration of df: 270058.101750749\n",
      "Duration of test_dvc_non_drone split: 1652.7307355869998\n"
     ]
    }
   ],
   "source": [
    "dvc_non_drone_df = df[df[\"label\"] == \"dvc_non_drone\"]\n",
    "dvc_non_drone_df_with_test = set_test_split(dvc_non_drone_df, \"test_dvc_non_drone\", 26)"
   ]
  },
  {
   "cell_type": "code",
   "execution_count": 9,
   "metadata": {},
   "outputs": [
    {
     "name": "stdout",
     "output_type": "stream",
     "text": [
      "Duration of df: 4278.766420534001\n",
      "Duration of test_animal split: 1516.2399937300002\n"
     ]
    }
   ],
   "source": [
    "animal_df = df[df[\"label\"] == \"animal\"]\n",
    "animal_df_with_test = set_test_split(animal_df, \"test_animal\", 200)"
   ]
  },
  {
   "cell_type": "code",
   "execution_count": 10,
   "metadata": {},
   "outputs": [
    {
     "name": "stdout",
     "output_type": "stream",
     "text": [
      "Duration of df: 176521.09476734803\n",
      "Duration of test_speech split: 10098.189768778999\n"
     ]
    }
   ],
   "source": [
    "def speech_set_split(df, split_name, amount_of_sqbundles_from, amount_of_sqbundles_to):\n",
    "    df = df.copy()\n",
    "    duration_of_df = df[\"wav_duration_sec\"].sum()\n",
    "    print(f\"Duration of df: {duration_of_df}\")\n",
    "    sqbundles = df[\"sqbundle_id\"].unique()\n",
    "    test_sqbundles = sqbundles[amount_of_sqbundles_from:amount_of_sqbundles_to]\n",
    "    df.loc[df[\"sqbundle_id\"].isin(test_sqbundles), \"split\"] = split_name\n",
    "    duration_split = df[df[\"split\"] == split_name][\"wav_duration_sec\"].sum()\n",
    "    print(f\"Duration of {split_name} split: {duration_split}\")\n",
    "    return df\n",
    "speech_df = df[df[\"label\"] == \"speech\"]\n",
    "speech_df_with_test = speech_set_split(speech_df, \"test_speech\", 10, 50)\n",
    "\n"
   ]
  },
  {
   "cell_type": "code",
   "execution_count": 11,
   "metadata": {},
   "outputs": [
    {
     "name": "stdout",
     "output_type": "stream",
     "text": [
      "Duration of df: 86390.0\n",
      "Duration of test_TUT_dcase split: 1500.0\n"
     ]
    },
    {
     "data": {
      "text/html": [
       "<div>\n",
       "<style scoped>\n",
       "    .dataframe tbody tr th:only-of-type {\n",
       "        vertical-align: middle;\n",
       "    }\n",
       "\n",
       "    .dataframe tbody tr th {\n",
       "        vertical-align: top;\n",
       "    }\n",
       "\n",
       "    .dataframe thead th {\n",
       "        text-align: right;\n",
       "    }\n",
       "</style>\n",
       "<table border=\"1\" class=\"dataframe\">\n",
       "  <thead>\n",
       "    <tr style=\"text-align: right;\">\n",
       "      <th></th>\n",
       "      <th>sqbundle_id</th>\n",
       "      <th>wav_duration_sec</th>\n",
       "      <th>label_duration_sec</th>\n",
       "      <th>label_relative_start_sec</th>\n",
       "      <th>label_relative_end_sec</th>\n",
       "      <th>label</th>\n",
       "      <th>file_name</th>\n",
       "      <th>split</th>\n",
       "    </tr>\n",
       "  </thead>\n",
       "  <tbody>\n",
       "    <tr>\n",
       "      <th>23337</th>\n",
       "      <td>f716728c7d11bb916094e27df92fc0.wav</td>\n",
       "      <td>10.0</td>\n",
       "      <td>10.0</td>\n",
       "      <td>0.0</td>\n",
       "      <td>10.0</td>\n",
       "      <td>TUT_dcase</td>\n",
       "      <td>f716728c7d11bb916094e27df92fc0.wav</td>\n",
       "      <td>test_TUT_dcase</td>\n",
       "    </tr>\n",
       "    <tr>\n",
       "      <th>23338</th>\n",
       "      <td>ec60699933a5c200af7e40dce74116.wav</td>\n",
       "      <td>10.0</td>\n",
       "      <td>10.0</td>\n",
       "      <td>0.0</td>\n",
       "      <td>10.0</td>\n",
       "      <td>TUT_dcase</td>\n",
       "      <td>ec60699933a5c200af7e40dce74116.wav</td>\n",
       "      <td>test_TUT_dcase</td>\n",
       "    </tr>\n",
       "    <tr>\n",
       "      <th>23339</th>\n",
       "      <td>009d170f0df65c23d8fc847afb2de7.wav</td>\n",
       "      <td>10.0</td>\n",
       "      <td>10.0</td>\n",
       "      <td>0.0</td>\n",
       "      <td>10.0</td>\n",
       "      <td>TUT_dcase</td>\n",
       "      <td>009d170f0df65c23d8fc847afb2de7.wav</td>\n",
       "      <td>test_TUT_dcase</td>\n",
       "    </tr>\n",
       "    <tr>\n",
       "      <th>23340</th>\n",
       "      <td>c4ee059176f5b7276baf11d7e94520.wav</td>\n",
       "      <td>10.0</td>\n",
       "      <td>10.0</td>\n",
       "      <td>0.0</td>\n",
       "      <td>10.0</td>\n",
       "      <td>TUT_dcase</td>\n",
       "      <td>c4ee059176f5b7276baf11d7e94520.wav</td>\n",
       "      <td>test_TUT_dcase</td>\n",
       "    </tr>\n",
       "    <tr>\n",
       "      <th>23341</th>\n",
       "      <td>090b5bed6960c64e7aab924fa3f606.wav</td>\n",
       "      <td>10.0</td>\n",
       "      <td>10.0</td>\n",
       "      <td>0.0</td>\n",
       "      <td>10.0</td>\n",
       "      <td>TUT_dcase</td>\n",
       "      <td>090b5bed6960c64e7aab924fa3f606.wav</td>\n",
       "      <td>test_TUT_dcase</td>\n",
       "    </tr>\n",
       "    <tr>\n",
       "      <th>...</th>\n",
       "      <td>...</td>\n",
       "      <td>...</td>\n",
       "      <td>...</td>\n",
       "      <td>...</td>\n",
       "      <td>...</td>\n",
       "      <td>...</td>\n",
       "      <td>...</td>\n",
       "      <td>...</td>\n",
       "    </tr>\n",
       "    <tr>\n",
       "      <th>31971</th>\n",
       "      <td>ef5e54bff695553155d919cdb4002b.wav</td>\n",
       "      <td>10.0</td>\n",
       "      <td>10.0</td>\n",
       "      <td>0.0</td>\n",
       "      <td>10.0</td>\n",
       "      <td>TUT_dcase</td>\n",
       "      <td>ef5e54bff695553155d919cdb4002b.wav</td>\n",
       "      <td>train</td>\n",
       "    </tr>\n",
       "    <tr>\n",
       "      <th>31972</th>\n",
       "      <td>067b653f931b2efd1c0d6a11d618a2.wav</td>\n",
       "      <td>10.0</td>\n",
       "      <td>10.0</td>\n",
       "      <td>0.0</td>\n",
       "      <td>10.0</td>\n",
       "      <td>TUT_dcase</td>\n",
       "      <td>067b653f931b2efd1c0d6a11d618a2.wav</td>\n",
       "      <td>train</td>\n",
       "    </tr>\n",
       "    <tr>\n",
       "      <th>31973</th>\n",
       "      <td>7181ce51f6a5710ead106e1c751bd1.wav</td>\n",
       "      <td>10.0</td>\n",
       "      <td>10.0</td>\n",
       "      <td>0.0</td>\n",
       "      <td>10.0</td>\n",
       "      <td>TUT_dcase</td>\n",
       "      <td>7181ce51f6a5710ead106e1c751bd1.wav</td>\n",
       "      <td>train</td>\n",
       "    </tr>\n",
       "    <tr>\n",
       "      <th>31974</th>\n",
       "      <td>9944ce0f11944ad8cc086a8047ff9f.wav</td>\n",
       "      <td>10.0</td>\n",
       "      <td>10.0</td>\n",
       "      <td>0.0</td>\n",
       "      <td>10.0</td>\n",
       "      <td>TUT_dcase</td>\n",
       "      <td>9944ce0f11944ad8cc086a8047ff9f.wav</td>\n",
       "      <td>train</td>\n",
       "    </tr>\n",
       "    <tr>\n",
       "      <th>31975</th>\n",
       "      <td>94c6b0680438036fa320b98fd04164.wav</td>\n",
       "      <td>10.0</td>\n",
       "      <td>10.0</td>\n",
       "      <td>0.0</td>\n",
       "      <td>10.0</td>\n",
       "      <td>TUT_dcase</td>\n",
       "      <td>94c6b0680438036fa320b98fd04164.wav</td>\n",
       "      <td>train</td>\n",
       "    </tr>\n",
       "  </tbody>\n",
       "</table>\n",
       "<p>8639 rows × 8 columns</p>\n",
       "</div>"
      ],
      "text/plain": [
       "                              sqbundle_id  wav_duration_sec  \\\n",
       "23337  f716728c7d11bb916094e27df92fc0.wav              10.0   \n",
       "23338  ec60699933a5c200af7e40dce74116.wav              10.0   \n",
       "23339  009d170f0df65c23d8fc847afb2de7.wav              10.0   \n",
       "23340  c4ee059176f5b7276baf11d7e94520.wav              10.0   \n",
       "23341  090b5bed6960c64e7aab924fa3f606.wav              10.0   \n",
       "...                                   ...               ...   \n",
       "31971  ef5e54bff695553155d919cdb4002b.wav              10.0   \n",
       "31972  067b653f931b2efd1c0d6a11d618a2.wav              10.0   \n",
       "31973  7181ce51f6a5710ead106e1c751bd1.wav              10.0   \n",
       "31974  9944ce0f11944ad8cc086a8047ff9f.wav              10.0   \n",
       "31975  94c6b0680438036fa320b98fd04164.wav              10.0   \n",
       "\n",
       "       label_duration_sec  label_relative_start_sec  label_relative_end_sec  \\\n",
       "23337                10.0                       0.0                    10.0   \n",
       "23338                10.0                       0.0                    10.0   \n",
       "23339                10.0                       0.0                    10.0   \n",
       "23340                10.0                       0.0                    10.0   \n",
       "23341                10.0                       0.0                    10.0   \n",
       "...                   ...                       ...                     ...   \n",
       "31971                10.0                       0.0                    10.0   \n",
       "31972                10.0                       0.0                    10.0   \n",
       "31973                10.0                       0.0                    10.0   \n",
       "31974                10.0                       0.0                    10.0   \n",
       "31975                10.0                       0.0                    10.0   \n",
       "\n",
       "           label                           file_name           split  \n",
       "23337  TUT_dcase  f716728c7d11bb916094e27df92fc0.wav  test_TUT_dcase  \n",
       "23338  TUT_dcase  ec60699933a5c200af7e40dce74116.wav  test_TUT_dcase  \n",
       "23339  TUT_dcase  009d170f0df65c23d8fc847afb2de7.wav  test_TUT_dcase  \n",
       "23340  TUT_dcase  c4ee059176f5b7276baf11d7e94520.wav  test_TUT_dcase  \n",
       "23341  TUT_dcase  090b5bed6960c64e7aab924fa3f606.wav  test_TUT_dcase  \n",
       "...          ...                                 ...             ...  \n",
       "31971  TUT_dcase  ef5e54bff695553155d919cdb4002b.wav           train  \n",
       "31972  TUT_dcase  067b653f931b2efd1c0d6a11d618a2.wav           train  \n",
       "31973  TUT_dcase  7181ce51f6a5710ead106e1c751bd1.wav           train  \n",
       "31974  TUT_dcase  9944ce0f11944ad8cc086a8047ff9f.wav           train  \n",
       "31975  TUT_dcase  94c6b0680438036fa320b98fd04164.wav           train  \n",
       "\n",
       "[8639 rows x 8 columns]"
      ]
     },
     "execution_count": 11,
     "metadata": {},
     "output_type": "execute_result"
    }
   ],
   "source": [
    "tut_dcase_df = df[df[\"label\"] == \"TUT_dcase\"]\n",
    "tut_dcase_df_with_test = set_test_split(tut_dcase_df, \"test_TUT_dcase\", 150)\n",
    "tut_dcase_df_with_test"
   ]
  },
  {
   "cell_type": "code",
   "execution_count": 12,
   "metadata": {},
   "outputs": [
    {
     "name": "stdout",
     "output_type": "stream",
     "text": [
      "Duration of df: 5000.003469428\n",
      "Duration of test_nature_chernobyl split: 1600.001383236\n"
     ]
    }
   ],
   "source": [
    "nature_chernobyl_df = df[df[\"label\"] == \"nature_chernobyl\"]\n",
    "nature_chernobyl_df_with_test = set_test_split(nature_chernobyl_df, \"test_nature_chernobyl\", 130)"
   ]
  },
  {
   "cell_type": "code",
   "execution_count": 13,
   "metadata": {},
   "outputs": [],
   "source": [
    "# Concatenate all the dataframes\n",
    "df_with_test = pd.concat([electric_quad_drone_df_with_test, racing_drone_df_with_test, electric_fixedwing_drone_df_with_test, petrol_fixedwing_drone_df_with_test, dvc_non_drone_df_with_test, animal_df_with_test, speech_df_with_test, tut_dcase_df_with_test, nature_chernobyl_df_with_test])\n",
    "df_with_test\n",
    "# Save the dataframe to a .csv file\n",
    "df_with_test.to_csv(PATH_TO_INPUT_DATA + \"/data_with_test.csv\", index=False)\n",
    "\n",
    "\n"
   ]
  },
  {
   "cell_type": "code",
   "execution_count": null,
   "metadata": {},
   "outputs": [],
   "source": []
  }
 ],
 "metadata": {
  "kernelspec": {
   "display_name": "skylinevenv",
   "language": "python",
   "name": "python3"
  },
  "language_info": {
   "codemirror_mode": {
    "name": "ipython",
    "version": 3
   },
   "file_extension": ".py",
   "mimetype": "text/x-python",
   "name": "python",
   "nbconvert_exporter": "python",
   "pygments_lexer": "ipython3",
   "version": "3.10.11"
  }
 },
 "nbformat": 4,
 "nbformat_minor": 2
}
