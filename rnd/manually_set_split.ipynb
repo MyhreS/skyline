{
 "cells": [
  {
   "cell_type": "code",
   "execution_count": 1,
   "metadata": {},
   "outputs": [
    {
     "name": "stderr",
     "output_type": "stream",
     "text": [
      "/tmp/ipykernel_3441030/2498051942.py:1: DeprecationWarning: \n",
      "Pyarrow will become a required dependency of pandas in the next major release of pandas (pandas 3.0),\n",
      "(to allow more performant data types, such as the Arrow string type, and better interoperability with other libraries)\n",
      "but was not found to be installed on your system.\n",
      "If this would cause problems for you,\n",
      "please provide us feedback at https://github.com/pandas-dev/pandas/issues/54466\n",
      "        \n",
      "  import pandas as pd\n"
     ]
    }
   ],
   "source": [
    "import pandas as pd\n",
    "# PATH_TO_INPUT_DATA = \"/Users/simonmyhre/workdir/gitdir/sqml/projects/sm_multiclass_masters_project/pull_data/cache/datav3\"\n",
    "PATH_TO_INPUT_DATA = \"/cluster/datastore/simonmy/data/datav3\"\n",
    "# labels: \"electric_quad_drone\", \"racing_drone\", \"electric_fixedwing_drone\", \"petrol_fixedwing_drone\", \"dvc_non_drone\", \"animal\", \"speech\", \"TUT_dcase\", \"nature_chernobyl\""
   ]
  },
  {
   "cell_type": "code",
   "execution_count": 2,
   "metadata": {},
   "outputs": [],
   "source": [
    "df = pd.read_csv(PATH_TO_INPUT_DATA + \"/data.csv\")"
   ]
  },
  {
   "cell_type": "code",
   "execution_count": 3,
   "metadata": {},
   "outputs": [
    {
     "data": {
      "text/html": [
       "<div>\n",
       "<style scoped>\n",
       "    .dataframe tbody tr th:only-of-type {\n",
       "        vertical-align: middle;\n",
       "    }\n",
       "\n",
       "    .dataframe tbody tr th {\n",
       "        vertical-align: top;\n",
       "    }\n",
       "\n",
       "    .dataframe thead th {\n",
       "        text-align: right;\n",
       "    }\n",
       "</style>\n",
       "<table border=\"1\" class=\"dataframe\">\n",
       "  <thead>\n",
       "    <tr style=\"text-align: right;\">\n",
       "      <th></th>\n",
       "      <th>sqbundle_id</th>\n",
       "      <th>wav_duration_sec</th>\n",
       "      <th>label_duration_sec</th>\n",
       "      <th>label_relative_start_sec</th>\n",
       "      <th>label_relative_end_sec</th>\n",
       "      <th>label</th>\n",
       "      <th>file_name</th>\n",
       "      <th>split</th>\n",
       "    </tr>\n",
       "  </thead>\n",
       "  <tbody>\n",
       "    <tr>\n",
       "      <th>0</th>\n",
       "      <td>32500921bfa969d37d0b36240f8e59d8</td>\n",
       "      <td>24.422369</td>\n",
       "      <td>24.422369</td>\n",
       "      <td>0.000000</td>\n",
       "      <td>24.422369</td>\n",
       "      <td>electric_quad_drone</td>\n",
       "      <td>b38b70ca19ee224c3ba056f0de71de2b.wav</td>\n",
       "      <td>train</td>\n",
       "    </tr>\n",
       "    <tr>\n",
       "      <th>1</th>\n",
       "      <td>340dd60b47d2e8d17d4ab6f7c81684f9</td>\n",
       "      <td>75.401442</td>\n",
       "      <td>38.190698</td>\n",
       "      <td>0.000000</td>\n",
       "      <td>38.190698</td>\n",
       "      <td>electric_quad_drone</td>\n",
       "      <td>213e5d27543966361c8b4475b4fc4cd0.wav</td>\n",
       "      <td>train</td>\n",
       "    </tr>\n",
       "    <tr>\n",
       "      <th>2</th>\n",
       "      <td>340dd60b47d2e8d17d4ab6f7c81684f9</td>\n",
       "      <td>75.401442</td>\n",
       "      <td>36.195621</td>\n",
       "      <td>38.190698</td>\n",
       "      <td>74.386319</td>\n",
       "      <td>electric_quad_drone</td>\n",
       "      <td>213e5d27543966361c8b4475b4fc4cd0.wav</td>\n",
       "      <td>train</td>\n",
       "    </tr>\n",
       "    <tr>\n",
       "      <th>3</th>\n",
       "      <td>340dd60b47d2e8d17d4ab6f7c81684f9</td>\n",
       "      <td>75.401442</td>\n",
       "      <td>1.015123</td>\n",
       "      <td>74.386319</td>\n",
       "      <td>75.401442</td>\n",
       "      <td>electric_quad_drone</td>\n",
       "      <td>213e5d27543966361c8b4475b4fc4cd0.wav</td>\n",
       "      <td>train</td>\n",
       "    </tr>\n",
       "    <tr>\n",
       "      <th>4</th>\n",
       "      <td>399328d9efc94ec8cba799ffcaac4eec</td>\n",
       "      <td>36.592857</td>\n",
       "      <td>36.592857</td>\n",
       "      <td>0.000000</td>\n",
       "      <td>36.592857</td>\n",
       "      <td>electric_quad_drone</td>\n",
       "      <td>befe19d94a8ffcdd09cc0beb0be092f0.wav</td>\n",
       "      <td>train</td>\n",
       "    </tr>\n",
       "    <tr>\n",
       "      <th>...</th>\n",
       "      <td>...</td>\n",
       "      <td>...</td>\n",
       "      <td>...</td>\n",
       "      <td>...</td>\n",
       "      <td>...</td>\n",
       "      <td>...</td>\n",
       "      <td>...</td>\n",
       "      <td>...</td>\n",
       "    </tr>\n",
       "    <tr>\n",
       "      <th>66915</th>\n",
       "      <td>22a922c07274af25c4017f3abcb710.wav</td>\n",
       "      <td>2.348813</td>\n",
       "      <td>2.120000</td>\n",
       "      <td>0.140000</td>\n",
       "      <td>2.260000</td>\n",
       "      <td>speech</td>\n",
       "      <td>22a922c07274af25c4017f3abcb710.wav</td>\n",
       "      <td>train</td>\n",
       "    </tr>\n",
       "    <tr>\n",
       "      <th>66916</th>\n",
       "      <td>3d5a84f214eb7fabf221c98d450440.wav</td>\n",
       "      <td>1.292812</td>\n",
       "      <td>1.050000</td>\n",
       "      <td>0.140000</td>\n",
       "      <td>1.190000</td>\n",
       "      <td>speech</td>\n",
       "      <td>3d5a84f214eb7fabf221c98d450440.wav</td>\n",
       "      <td>train</td>\n",
       "    </tr>\n",
       "    <tr>\n",
       "      <th>66917</th>\n",
       "      <td>1b4f183a0986ff5c365b79f028ffd6.wav</td>\n",
       "      <td>1.715250</td>\n",
       "      <td>1.430000</td>\n",
       "      <td>0.260000</td>\n",
       "      <td>1.690000</td>\n",
       "      <td>speech</td>\n",
       "      <td>1b4f183a0986ff5c365b79f028ffd6.wav</td>\n",
       "      <td>train</td>\n",
       "    </tr>\n",
       "    <tr>\n",
       "      <th>66918</th>\n",
       "      <td>919a8e849cb2ef4d42f0b8d29593a0.wav</td>\n",
       "      <td>1.459250</td>\n",
       "      <td>0.990000</td>\n",
       "      <td>0.150000</td>\n",
       "      <td>1.140000</td>\n",
       "      <td>speech</td>\n",
       "      <td>919a8e849cb2ef4d42f0b8d29593a0.wav</td>\n",
       "      <td>train</td>\n",
       "    </tr>\n",
       "    <tr>\n",
       "      <th>66919</th>\n",
       "      <td>b34040c17ef6d54ee9cc43f4dd6830.wav</td>\n",
       "      <td>1.792000</td>\n",
       "      <td>1.500000</td>\n",
       "      <td>0.130000</td>\n",
       "      <td>1.630000</td>\n",
       "      <td>speech</td>\n",
       "      <td>b34040c17ef6d54ee9cc43f4dd6830.wav</td>\n",
       "      <td>train</td>\n",
       "    </tr>\n",
       "  </tbody>\n",
       "</table>\n",
       "<p>66920 rows × 8 columns</p>\n",
       "</div>"
      ],
      "text/plain": [
       "                              sqbundle_id  wav_duration_sec  \\\n",
       "0        32500921bfa969d37d0b36240f8e59d8         24.422369   \n",
       "1        340dd60b47d2e8d17d4ab6f7c81684f9         75.401442   \n",
       "2        340dd60b47d2e8d17d4ab6f7c81684f9         75.401442   \n",
       "3        340dd60b47d2e8d17d4ab6f7c81684f9         75.401442   \n",
       "4        399328d9efc94ec8cba799ffcaac4eec         36.592857   \n",
       "...                                   ...               ...   \n",
       "66915  22a922c07274af25c4017f3abcb710.wav          2.348813   \n",
       "66916  3d5a84f214eb7fabf221c98d450440.wav          1.292812   \n",
       "66917  1b4f183a0986ff5c365b79f028ffd6.wav          1.715250   \n",
       "66918  919a8e849cb2ef4d42f0b8d29593a0.wav          1.459250   \n",
       "66919  b34040c17ef6d54ee9cc43f4dd6830.wav          1.792000   \n",
       "\n",
       "       label_duration_sec  label_relative_start_sec  label_relative_end_sec  \\\n",
       "0               24.422369                  0.000000               24.422369   \n",
       "1               38.190698                  0.000000               38.190698   \n",
       "2               36.195621                 38.190698               74.386319   \n",
       "3                1.015123                 74.386319               75.401442   \n",
       "4               36.592857                  0.000000               36.592857   \n",
       "...                   ...                       ...                     ...   \n",
       "66915            2.120000                  0.140000                2.260000   \n",
       "66916            1.050000                  0.140000                1.190000   \n",
       "66917            1.430000                  0.260000                1.690000   \n",
       "66918            0.990000                  0.150000                1.140000   \n",
       "66919            1.500000                  0.130000                1.630000   \n",
       "\n",
       "                     label                             file_name  split  \n",
       "0      electric_quad_drone  b38b70ca19ee224c3ba056f0de71de2b.wav  train  \n",
       "1      electric_quad_drone  213e5d27543966361c8b4475b4fc4cd0.wav  train  \n",
       "2      electric_quad_drone  213e5d27543966361c8b4475b4fc4cd0.wav  train  \n",
       "3      electric_quad_drone  213e5d27543966361c8b4475b4fc4cd0.wav  train  \n",
       "4      electric_quad_drone  befe19d94a8ffcdd09cc0beb0be092f0.wav  train  \n",
       "...                    ...                                   ...    ...  \n",
       "66915               speech    22a922c07274af25c4017f3abcb710.wav  train  \n",
       "66916               speech    3d5a84f214eb7fabf221c98d450440.wav  train  \n",
       "66917               speech    1b4f183a0986ff5c365b79f028ffd6.wav  train  \n",
       "66918               speech    919a8e849cb2ef4d42f0b8d29593a0.wav  train  \n",
       "66919               speech    b34040c17ef6d54ee9cc43f4dd6830.wav  train  \n",
       "\n",
       "[66920 rows x 8 columns]"
      ]
     },
     "execution_count": 3,
     "metadata": {},
     "output_type": "execute_result"
    }
   ],
   "source": [
    "# Read .csv file\n",
    "\n",
    "df[\"split\"] = \"train\"\n",
    "df"
   ]
  },
  {
   "cell_type": "code",
   "execution_count": 4,
   "metadata": {},
   "outputs": [],
   "source": [
    "def set_test_split(df, split_name, amount_of_sqbundles):\n",
    "    df = df.copy()\n",
    "    duration_of_df = df[\"wav_duration_sec\"].sum()\n",
    "    print(f\"Duration of df: {duration_of_df}\")\n",
    "    sqbundles = df[\"sqbundle_id\"].unique()\n",
    "    test_sqbundles = sqbundles[:amount_of_sqbundles]\n",
    "    df.loc[df[\"sqbundle_id\"].isin(test_sqbundles), \"split\"] = split_name\n",
    "    duration_split = df[df[\"split\"] == split_name][\"wav_duration_sec\"].sum()\n",
    "    print(f\"Duration of {split_name} split: {duration_split}\")\n",
    "    return df\n",
    "\n",
    "    \n"
   ]
  },
  {
   "cell_type": "code",
   "execution_count": 5,
   "metadata": {},
   "outputs": [
    {
     "name": "stdout",
     "output_type": "stream",
     "text": [
      "Duration of df: 255152.344931026\n",
      "Duration of test_electric_quad_drone split: 1713.7081130109998\n"
     ]
    }
   ],
   "source": [
    "\n",
    "electric_quad_drone_df = df[df[\"label\"] == \"electric_quad_drone\"]\n",
    "electric_quad_drone_df_with_test = set_test_split(electric_quad_drone_df, \"test_electric_quad_drone\", 20)\n"
   ]
  },
  {
   "cell_type": "code",
   "execution_count": 7,
   "metadata": {},
   "outputs": [
    {
     "name": "stdout",
     "output_type": "stream",
     "text": [
      "Duration of df: 19897.328585442\n",
      "Duration of test_racing_drone split: 1448.1835195200001\n"
     ]
    }
   ],
   "source": [
    "racing_drone_df = df[df[\"label\"] == \"racing_drone\"]\n",
    "racing_drone_df_with_test = set_test_split(racing_drone_df, \"test_racing_drone\", 8)\n"
   ]
  },
  {
   "cell_type": "code",
   "execution_count": 8,
   "metadata": {},
   "outputs": [
    {
     "name": "stdout",
     "output_type": "stream",
     "text": [
      "Duration of df: 7569.533614894\n",
      "Duration of test_electric_fixedwing_drone split: 1602.68292181\n"
     ]
    }
   ],
   "source": [
    "electric_fixedwing_drone_df = df[df[\"label\"] == \"electric_fixedwing_drone\"]\n",
    "electric_fixedwing_drone_df_with_test = set_test_split(electric_fixedwing_drone_df, \"test_electric_fixedwing_drone\", 5)"
   ]
  },
  {
   "cell_type": "code",
   "execution_count": 9,
   "metadata": {},
   "outputs": [
    {
     "name": "stdout",
     "output_type": "stream",
     "text": [
      "Duration of df: 7373.398141054\n",
      "Duration of test_petrol_fixedwing_drone split: 963.015829936\n"
     ]
    }
   ],
   "source": [
    "petrol_fixedwing_drone_df = df[df[\"label\"] == \"petrol_fixedwing_drone\"]\n",
    "petrol_fixedwing_drone_df_with_test = set_test_split(petrol_fixedwing_drone_df, \"test_petrol_fixedwing_drone\", 11)"
   ]
  },
  {
   "cell_type": "code",
   "execution_count": 10,
   "metadata": {},
   "outputs": [
    {
     "name": "stdout",
     "output_type": "stream",
     "text": [
      "Duration of df: 270058.101750749\n",
      "Duration of test_dvc_non_drone split: 1652.7307355869998\n"
     ]
    }
   ],
   "source": [
    "dvc_non_drone_df = df[df[\"label\"] == \"dvc_non_drone\"]\n",
    "dvc_non_drone_df_with_test = set_test_split(dvc_non_drone_df, \"test_dvc_non_drone\", 26)"
   ]
  },
  {
   "cell_type": "code",
   "execution_count": 11,
   "metadata": {},
   "outputs": [
    {
     "name": "stdout",
     "output_type": "stream",
     "text": [
      "Duration of df: 4278.766420534001\n",
      "Duration of test_animal split: 1516.2399937300002\n"
     ]
    }
   ],
   "source": [
    "animal_df = df[df[\"label\"] == \"animal\"]\n",
    "animal_df_with_test = set_test_split(animal_df, \"test_animal\", 200)"
   ]
  },
  {
   "cell_type": "code",
   "execution_count": 13,
   "metadata": {},
   "outputs": [],
   "source": [
    " tut_dcase = df[df[\"label\"] == \"TUT_dcase\"]\n",
    "non_tut_dcase = df[df[\"label\"] != \"TUT_dcase\"]\n",
    "\n",
    "non_tut_dcase = non_tut_dcase[\n",
    "    ~non_tut_dcase[\"file_name\"].isin(tut_dcase[\"file_name\"].unique())\n",
    "]\n",
    "\n",
    "tut_dcase.reset_index(drop=True, inplace=True)\n",
    "non_tut_dcase.reset_index(drop=True, inplace=True)\n",
    "\n",
    "df = pd.concat([tut_dcase, non_tut_dcase])"
   ]
  },
  {
   "cell_type": "code",
   "execution_count": 14,
   "metadata": {},
   "outputs": [
    {
     "name": "stdout",
     "output_type": "stream",
     "text": [
      "Duration of df: 80048.35138394199\n",
      "Duration of test_speech split: 10085.725568579\n"
     ]
    }
   ],
   "source": [
    "def speech_set_split(df, split_name, amount_of_sqbundles_from, amount_of_sqbundles_to):\n",
    "    df = df.copy()\n",
    "    duration_of_df = df[\"wav_duration_sec\"].sum()\n",
    "    print(f\"Duration of df: {duration_of_df}\")\n",
    "    sqbundles = df[\"sqbundle_id\"].unique()\n",
    "    test_sqbundles = sqbundles[amount_of_sqbundles_from:amount_of_sqbundles_to]\n",
    "    df.loc[df[\"sqbundle_id\"].isin(test_sqbundles), \"split\"] = split_name\n",
    "    duration_split = df[df[\"split\"] == split_name][\"wav_duration_sec\"].sum()\n",
    "    print(f\"Duration of {split_name} split: {duration_split}\")\n",
    "    return df\n",
    "speech_df = df[df[\"label\"] == \"speech\"]\n",
    "speech_df_with_test = speech_set_split(speech_df, \"test_speech\", 10, 50)\n",
    "\n"
   ]
  },
  {
   "cell_type": "code",
   "execution_count": 19,
   "metadata": {},
   "outputs": [
    {
     "name": "stdout",
     "output_type": "stream",
     "text": [
      "Duration of df: 96472.743383406\n",
      "Duration of test_TUT_dcase split: 2341.306416665\n"
     ]
    },
    {
     "data": {
      "text/html": [
       "<div>\n",
       "<style scoped>\n",
       "    .dataframe tbody tr th:only-of-type {\n",
       "        vertical-align: middle;\n",
       "    }\n",
       "\n",
       "    .dataframe tbody tr th {\n",
       "        vertical-align: top;\n",
       "    }\n",
       "\n",
       "    .dataframe thead th {\n",
       "        text-align: right;\n",
       "    }\n",
       "</style>\n",
       "<table border=\"1\" class=\"dataframe\">\n",
       "  <thead>\n",
       "    <tr style=\"text-align: right;\">\n",
       "      <th></th>\n",
       "      <th>sqbundle_id</th>\n",
       "      <th>wav_duration_sec</th>\n",
       "      <th>label_duration_sec</th>\n",
       "      <th>label_relative_start_sec</th>\n",
       "      <th>label_relative_end_sec</th>\n",
       "      <th>label</th>\n",
       "      <th>file_name</th>\n",
       "      <th>split</th>\n",
       "    </tr>\n",
       "  </thead>\n",
       "  <tbody>\n",
       "    <tr>\n",
       "      <th>0</th>\n",
       "      <td>c556d1bcdfe03480557bb523764d7d.wav</td>\n",
       "      <td>91.349333</td>\n",
       "      <td>91.349333</td>\n",
       "      <td>0.00</td>\n",
       "      <td>91.349333</td>\n",
       "      <td>TUT_dcase</td>\n",
       "      <td>c556d1bcdfe03480557bb523764d7d.wav</td>\n",
       "      <td>test_TUT_dcase</td>\n",
       "    </tr>\n",
       "    <tr>\n",
       "      <th>1</th>\n",
       "      <td>4253b57b489fd19943ee0d97a33b68.wav</td>\n",
       "      <td>82.026667</td>\n",
       "      <td>82.026667</td>\n",
       "      <td>0.00</td>\n",
       "      <td>82.026667</td>\n",
       "      <td>TUT_dcase</td>\n",
       "      <td>4253b57b489fd19943ee0d97a33b68.wav</td>\n",
       "      <td>test_TUT_dcase</td>\n",
       "    </tr>\n",
       "    <tr>\n",
       "      <th>2</th>\n",
       "      <td>2c7e7866e5faa35bbe1c2fe8a4b218.wav</td>\n",
       "      <td>89.888000</td>\n",
       "      <td>89.888000</td>\n",
       "      <td>0.00</td>\n",
       "      <td>89.888000</td>\n",
       "      <td>TUT_dcase</td>\n",
       "      <td>2c7e7866e5faa35bbe1c2fe8a4b218.wav</td>\n",
       "      <td>test_TUT_dcase</td>\n",
       "    </tr>\n",
       "    <tr>\n",
       "      <th>3</th>\n",
       "      <td>1a770300c3cfc9897f41ca6881a41b.wav</td>\n",
       "      <td>42.517333</td>\n",
       "      <td>42.517333</td>\n",
       "      <td>0.00</td>\n",
       "      <td>42.517333</td>\n",
       "      <td>TUT_dcase</td>\n",
       "      <td>1a770300c3cfc9897f41ca6881a41b.wav</td>\n",
       "      <td>test_TUT_dcase</td>\n",
       "    </tr>\n",
       "    <tr>\n",
       "      <th>4</th>\n",
       "      <td>65cdb00d50b2115ac648330ab736ef.wav</td>\n",
       "      <td>88.992000</td>\n",
       "      <td>88.992000</td>\n",
       "      <td>0.00</td>\n",
       "      <td>88.992000</td>\n",
       "      <td>TUT_dcase</td>\n",
       "      <td>65cdb00d50b2115ac648330ab736ef.wav</td>\n",
       "      <td>test_TUT_dcase</td>\n",
       "    </tr>\n",
       "    <tr>\n",
       "      <th>...</th>\n",
       "      <td>...</td>\n",
       "      <td>...</td>\n",
       "      <td>...</td>\n",
       "      <td>...</td>\n",
       "      <td>...</td>\n",
       "      <td>...</td>\n",
       "      <td>...</td>\n",
       "      <td>...</td>\n",
       "    </tr>\n",
       "    <tr>\n",
       "      <th>18014</th>\n",
       "      <td>b5fdd5d201502f14b85834cee311cc.wav</td>\n",
       "      <td>5.263175</td>\n",
       "      <td>3.780000</td>\n",
       "      <td>0.75</td>\n",
       "      <td>4.530000</td>\n",
       "      <td>TUT_dcase</td>\n",
       "      <td>b5fdd5d201502f14b85834cee311cc.wav</td>\n",
       "      <td>train</td>\n",
       "    </tr>\n",
       "    <tr>\n",
       "      <th>18015</th>\n",
       "      <td>8421f762b2b33536a0a850752dff83.wav</td>\n",
       "      <td>4.943356</td>\n",
       "      <td>3.080000</td>\n",
       "      <td>0.86</td>\n",
       "      <td>3.940000</td>\n",
       "      <td>TUT_dcase</td>\n",
       "      <td>8421f762b2b33536a0a850752dff83.wav</td>\n",
       "      <td>train</td>\n",
       "    </tr>\n",
       "    <tr>\n",
       "      <th>18016</th>\n",
       "      <td>3efc82275b9a781e0f972d9f08b899.wav</td>\n",
       "      <td>3.798980</td>\n",
       "      <td>2.180000</td>\n",
       "      <td>0.83</td>\n",
       "      <td>3.010000</td>\n",
       "      <td>TUT_dcase</td>\n",
       "      <td>3efc82275b9a781e0f972d9f08b899.wav</td>\n",
       "      <td>train</td>\n",
       "    </tr>\n",
       "    <tr>\n",
       "      <th>18017</th>\n",
       "      <td>39187e73a0014212cfc9a90218763c.wav</td>\n",
       "      <td>4.084853</td>\n",
       "      <td>2.370000</td>\n",
       "      <td>1.09</td>\n",
       "      <td>3.460000</td>\n",
       "      <td>TUT_dcase</td>\n",
       "      <td>39187e73a0014212cfc9a90218763c.wav</td>\n",
       "      <td>train</td>\n",
       "    </tr>\n",
       "    <tr>\n",
       "      <th>18018</th>\n",
       "      <td>b99b891cf33b67b32c90441f5a6eb1.wav</td>\n",
       "      <td>3.390476</td>\n",
       "      <td>1.920000</td>\n",
       "      <td>0.92</td>\n",
       "      <td>2.840000</td>\n",
       "      <td>TUT_dcase</td>\n",
       "      <td>b99b891cf33b67b32c90441f5a6eb1.wav</td>\n",
       "      <td>train</td>\n",
       "    </tr>\n",
       "  </tbody>\n",
       "</table>\n",
       "<p>18019 rows × 8 columns</p>\n",
       "</div>"
      ],
      "text/plain": [
       "                              sqbundle_id  wav_duration_sec  \\\n",
       "0      c556d1bcdfe03480557bb523764d7d.wav         91.349333   \n",
       "1      4253b57b489fd19943ee0d97a33b68.wav         82.026667   \n",
       "2      2c7e7866e5faa35bbe1c2fe8a4b218.wav         89.888000   \n",
       "3      1a770300c3cfc9897f41ca6881a41b.wav         42.517333   \n",
       "4      65cdb00d50b2115ac648330ab736ef.wav         88.992000   \n",
       "...                                   ...               ...   \n",
       "18014  b5fdd5d201502f14b85834cee311cc.wav          5.263175   \n",
       "18015  8421f762b2b33536a0a850752dff83.wav          4.943356   \n",
       "18016  3efc82275b9a781e0f972d9f08b899.wav          3.798980   \n",
       "18017  39187e73a0014212cfc9a90218763c.wav          4.084853   \n",
       "18018  b99b891cf33b67b32c90441f5a6eb1.wav          3.390476   \n",
       "\n",
       "       label_duration_sec  label_relative_start_sec  label_relative_end_sec  \\\n",
       "0               91.349333                      0.00               91.349333   \n",
       "1               82.026667                      0.00               82.026667   \n",
       "2               89.888000                      0.00               89.888000   \n",
       "3               42.517333                      0.00               42.517333   \n",
       "4               88.992000                      0.00               88.992000   \n",
       "...                   ...                       ...                     ...   \n",
       "18014            3.780000                      0.75                4.530000   \n",
       "18015            3.080000                      0.86                3.940000   \n",
       "18016            2.180000                      0.83                3.010000   \n",
       "18017            2.370000                      1.09                3.460000   \n",
       "18018            1.920000                      0.92                2.840000   \n",
       "\n",
       "           label                           file_name           split  \n",
       "0      TUT_dcase  c556d1bcdfe03480557bb523764d7d.wav  test_TUT_dcase  \n",
       "1      TUT_dcase  4253b57b489fd19943ee0d97a33b68.wav  test_TUT_dcase  \n",
       "2      TUT_dcase  2c7e7866e5faa35bbe1c2fe8a4b218.wav  test_TUT_dcase  \n",
       "3      TUT_dcase  1a770300c3cfc9897f41ca6881a41b.wav  test_TUT_dcase  \n",
       "4      TUT_dcase  65cdb00d50b2115ac648330ab736ef.wav  test_TUT_dcase  \n",
       "...          ...                                 ...             ...  \n",
       "18014  TUT_dcase  b5fdd5d201502f14b85834cee311cc.wav           train  \n",
       "18015  TUT_dcase  8421f762b2b33536a0a850752dff83.wav           train  \n",
       "18016  TUT_dcase  3efc82275b9a781e0f972d9f08b899.wav           train  \n",
       "18017  TUT_dcase  39187e73a0014212cfc9a90218763c.wav           train  \n",
       "18018  TUT_dcase  b99b891cf33b67b32c90441f5a6eb1.wav           train  \n",
       "\n",
       "[18019 rows x 8 columns]"
      ]
     },
     "execution_count": 19,
     "metadata": {},
     "output_type": "execute_result"
    }
   ],
   "source": [
    "tut_dcase_df = df[df[\"label\"] == \"TUT_dcase\"]\n",
    "tut_dcase_df_with_test = set_test_split(tut_dcase_df, \"test_TUT_dcase\", 30)\n",
    "tut_dcase_df_with_test"
   ]
  },
  {
   "cell_type": "code",
   "execution_count": 20,
   "metadata": {},
   "outputs": [
    {
     "name": "stdout",
     "output_type": "stream",
     "text": [
      "Duration of df: 5000.003469428\n",
      "Duration of test_nature_chernobyl split: 1600.001383236\n"
     ]
    }
   ],
   "source": [
    "nature_chernobyl_df = df[df[\"label\"] == \"nature_chernobyl\"]\n",
    "nature_chernobyl_df_with_test = set_test_split(nature_chernobyl_df, \"test_nature_chernobyl\", 130)"
   ]
  },
  {
   "cell_type": "code",
   "execution_count": 21,
   "metadata": {},
   "outputs": [],
   "source": [
    "# Concatenate all the dataframes\n",
    "df_with_test = pd.concat([electric_quad_drone_df_with_test, racing_drone_df_with_test, electric_fixedwing_drone_df_with_test, petrol_fixedwing_drone_df_with_test, dvc_non_drone_df_with_test, animal_df_with_test, speech_df_with_test, tut_dcase_df_with_test, nature_chernobyl_df_with_test])\n",
    "df_with_test\n",
    "# Save the dataframe to a .csv file\n",
    "df_with_test.to_csv(PATH_TO_INPUT_DATA + \"/data_with_test.csv\", index=False)\n",
    "\n",
    "\n"
   ]
  },
  {
   "cell_type": "code",
   "execution_count": null,
   "metadata": {},
   "outputs": [],
   "source": []
  }
 ],
 "metadata": {
  "kernelspec": {
   "display_name": "skylinevenv",
   "language": "python",
   "name": "python3"
  },
  "language_info": {
   "codemirror_mode": {
    "name": "ipython",
    "version": 3
   },
   "file_extension": ".py",
   "mimetype": "text/x-python",
   "name": "python",
   "nbconvert_exporter": "python",
   "pygments_lexer": "ipython3",
   "version": "3.10.11"
  }
 },
 "nbformat": 4,
 "nbformat_minor": 2
}
