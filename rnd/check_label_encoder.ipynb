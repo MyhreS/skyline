{
 "cells": [
  {
   "cell_type": "code",
   "execution_count": 11,
   "metadata": {},
   "outputs": [],
   "source": [
    "import numpy as np\n",
    "from typing import List, Dict\n",
    "import json"
   ]
  },
  {
   "cell_type": "code",
   "execution_count": 15,
   "metadata": {},
   "outputs": [
    {
     "name": "stdout",
     "output_type": "stream",
     "text": [
      "{\n",
      "    \"drone\": {\n",
      "        \"integer_encoding\": 0,\n",
      "        \"onehot_encoding\": [\n",
      "            1,\n",
      "            0\n",
      "        ],\n",
      "        \"labels_belonging_to_class\": [\n",
      "            \"electric_quad_drone\",\n",
      "            \"racing_drone\"\n",
      "        ]\n",
      "    },\n",
      "    \"non-drone\": {\n",
      "        \"integer_encoding\": 1,\n",
      "        \"onehot_encoding\": [\n",
      "            0,\n",
      "            1\n",
      "        ],\n",
      "        \"labels_belonging_to_class\": [\n",
      "            \"dvc_non_drone\",\n",
      "            \"animal\"\n",
      "        ]\n",
      "    }\n",
      "}\n",
      "[0, 0, 1, 0, 1, 1]\n"
     ]
    }
   ],
   "source": [
    "\n",
    "\n",
    "\n",
    "\n",
    "\n",
    "\n",
    "        \n",
    "\n",
    "label_class_map = {\n",
    "    \"drone\": [\n",
    "            \"electric_quad_drone\",\n",
    "            \"racing_drone\",\n",
    "        ],\n",
    "        \"non-drone\": [\n",
    "            \"dvc_non_drone\",\n",
    "            \"animal\",\n",
    "        ]} # This is only a map which I will use later too see what labels belong to what class\n",
    "label_encoder = ClassEncoder(label_class_map)\n",
    "\n",
    "class_list = [\"drone\", \"drone\", \"non-drone\", \"drone\", \"non-drone\", \"non-drone\"]\n",
    "encoded_labels = label_encoder.encode_labels(class_list, format=\"integer\")\n",
    "print(encoded_labels)\n",
    "\n",
    "\n",
    "\n",
    "\n",
    "\n",
    "\n"
   ]
  },
  {
   "cell_type": "code",
   "execution_count": null,
   "metadata": {},
   "outputs": [],
   "source": []
  }
 ],
 "metadata": {
  "kernelspec": {
   "display_name": "skylinevenv",
   "language": "python",
   "name": "python3"
  },
  "language_info": {
   "codemirror_mode": {
    "name": "ipython",
    "version": 3
   },
   "file_extension": ".py",
   "mimetype": "text/x-python",
   "name": "python",
   "nbconvert_exporter": "python",
   "pygments_lexer": "ipython3",
   "version": "3.10.11"
  }
 },
 "nbformat": 4,
 "nbformat_minor": 2
}
