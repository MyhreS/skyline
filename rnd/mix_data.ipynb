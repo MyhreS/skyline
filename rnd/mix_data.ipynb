{
 "cells": [
  {
   "cell_type": "code",
   "execution_count": 4,
   "metadata": {},
   "outputs": [],
   "source": [
    "PATH_TO_INPUT_DATA = \"/Users/simonmyhre/workdir/gitdir/sqml/projects/sm_multiclass_masters_project/pull_data/cache/datav3\"\n",
    "\n",
    "import pandas as pd\n",
    "import os\n",
    "import numpy as np\n",
    "import librosa\n",
    "import soundfile as sf"
   ]
  },
  {
   "cell_type": "code",
   "execution_count": 5,
   "metadata": {},
   "outputs": [
    {
     "name": "stdout",
     "output_type": "stream",
     "text": [
      "/Users/simonmyhre/workdir/gitdir/sqml/projects/sm_multiclass_masters_project/pull_data/cache/mixdata\n"
     ]
    }
   ],
   "source": [
    "path_to_mix_data = PATH_TO_INPUT_DATA.split(\"/\")[0:-1] + [\"mixdata\"]\n",
    "path_to_mix_data = \"/\".join(path_to_mix_data)\n",
    "print(path_to_mix_data)"
   ]
  },
  {
   "cell_type": "code",
   "execution_count": 6,
   "metadata": {},
   "outputs": [
    {
     "name": "stdout",
     "output_type": "stream",
     "text": [
      "[ 4.0757841e-05  5.4431752e-05  3.6259109e-05 ... -5.6102755e-05\n",
      " -7.4076983e-05 -3.1088901e-05]\n"
     ]
    }
   ],
   "source": [
    "def get_wav_chunk(\n",
    "    wav: np.ndarray, start: int, end: int, sample_rate: int, wav_length: int\n",
    "):\n",
    "    assert end <= wav_length, \"Trying to create window which exceeds the wav's lenght\"\n",
    "    wav_chunk = wav[int(start * sample_rate) : int(end * sample_rate)]\n",
    "    return wav_chunk\n",
    "\n",
    "# Placeholder data emulating one chunk which comes through the pipeline\n",
    "wav, sr = librosa.load(PATH_TO_INPUT_DATA + \"/wavs/a51414a8e2b19b43ad4b9ad69265b94e.wav\", sr=16000)\n",
    "sf.write(\"cache/entire_wav_before_mix.wav\", wav, sr)\n",
    "wav_chunk = get_wav_chunk(wav, 0, 1, 16000, len(wav))\n",
    "print(wav_chunk)\n",
    "# Save the chunk to a file\n",
    "sf.write(\"cache/wav_before_mix.wav\", wav_chunk*10, sr)"
   ]
  },
  {
   "cell_type": "code",
   "execution_count": 7,
   "metadata": {},
   "outputs": [],
   "source": [
    "def normalize_audio_energy(audio, target_energy=1.0):\n",
    "    # Calculate the current energy of the audio\n",
    "    current_energy = np.sum(np.square(audio))\n",
    "    \n",
    "    # Calculate the normalization factor\n",
    "    # Avoid division by zero by adding a small epsilon\n",
    "    normalization_factor = np.sqrt(target_energy / (current_energy + 1e-10))\n",
    "    \n",
    "    # Normalize the audio by the normalization factor\n",
    "    normalized_audio = audio * normalization_factor\n",
    "    \n",
    "    return normalized_audio"
   ]
  },
  {
   "cell_type": "code",
   "execution_count": 9,
   "metadata": {},
   "outputs": [],
   "source": [
    "wav_chunk_normalized = normalize_audio_energy(wav_chunk)\n",
    "sf.write(\"cache/wav_before_mix_normalized.wav\", wav_chunk_normalized, sr)"
   ]
  },
  {
   "cell_type": "code",
   "execution_count": 12,
   "metadata": {},
   "outputs": [
    {
     "name": "stdout",
     "output_type": "stream",
     "text": [
      "161\n"
     ]
    }
   ],
   "source": [
    "# Create the new function for reading a chunk of data from data in mixdata\n",
    "data_in_mixdata = os.listdir(path_to_mix_data + \"/wavs\")\n",
    "print(len(data_in_mixdata))\n",
    "\n",
    "\n",
    "\n",
    "\n",
    "\n",
    "\n",
    "\n",
    "def _read_random_mix_file(chunk_size: int, sample_rate: int = 16000):\n",
    "    \"\"\"\n",
    "    Takes a random audio file from the mixdata folder and returns a chunk of the audio file equal to the chunk_size.\n",
    "\n",
    "    Args:\n",
    "    - chunk_size: The length of the audio chunk to return.\n",
    "    - sample_rate: The sample rate of the audio chunks.\n",
    "\n",
    "    Returns:\n",
    "    - The audio chunk.\n",
    "    \"\"\"\n",
    "\n",
    "    file_loaded = False\n",
    "    mix_wav = None\n",
    "\n",
    "    while not file_loaded:\n",
    "        try:\n",
    "            random_file = np.random.choice(data_in_mixdata)\n",
    "            mix_wav, sr = librosa.load(path_to_mix_data + \"/wavs/\" + random_file, sr=sample_rate)\n",
    "\n",
    "            # If chunk_size is larger than the mix_wav, continue to the next iteration\n",
    "            if chunk_size > len(mix_wav):\n",
    "                continue\n",
    "\n",
    "            # File loaded successfully and meets the chunk_size requirement\n",
    "            file_loaded = True\n",
    "\n",
    "        except Exception as e:\n",
    "            # Handle the exception (e.g., print or log)\n",
    "            print(f\"Error loading file: {e}\")\n",
    "            # Continue to the next iteration to try loading another file\n",
    "            continue\n",
    "\n",
    "    # Once a valid file is loaded, extract the chunk\n",
    "    start = np.random.randint(0, len(mix_wav) - chunk_size)\n",
    "    end = start + chunk_size\n",
    "    return mix_wav[start:end]\n",
    "\n",
    "def apply_mix(\n",
    "        wav_chunk,\n",
    "        sample_rate: int = 16000,\n",
    "        mix_ratio_from: float = 0.1,\n",
    "        mix_ratio_to: float = 0.03,\n",
    "    ):\n",
    "    \"\"\"\n",
    "    Mixes wav_chunk with a randomly selected audio chunk.\n",
    "\n",
    "    Args:\n",
    "    - wav_chunk: The primary audio chunk to mix.\n",
    "    - sample_rate: The sample rate of the audio chunks.\n",
    "    - mix_ratio: The ratio of the secondary chunk to mix with the primary chunk.\n",
    "\n",
    "    Returns:\n",
    "    - The mixed audio chunk.\n",
    "    \"\"\"\n",
    "\n",
    "    secondary_chunk = _read_random_mix_file(\n",
    "        chunk_size=len(wav_chunk), sample_rate=sample_rate\n",
    "    )\n",
    "\n",
    "    if len(secondary_chunk) != len(wav_chunk):\n",
    "        raise ValueError(\n",
    "            \"The secondary chunk and wav_chunk must have the same length\"\n",
    "        )\n",
    "\n",
    "    sf.write(\"cache/mixing_wav.wav\", secondary_chunk, sr)\n",
    "    sf.write(\"cache/mixing_wav_normalized.wav\", normalize_audio_energy(secondary_chunk), sr)\n",
    "\n",
    "    mix_ratio = np.random.uniform(mix_ratio_from, mix_ratio_to)\n",
    "\n",
    "    assert 0 <= mix_ratio <= 1, \"The mixing ratio must be between 0 and 1\"\n",
    "\n",
    "    # Mixing the chunks\n",
    "    mixed_chunk = (wav_chunk*10) + (secondary_chunk * (mix_ratio))\n",
    "    return mixed_chunk\n",
    "\n",
    "new_wav_chunk = apply_mix(wav_chunk, sr)\n",
    "sf.write(\"cache/wav_after_mix.wav\", new_wav_chunk, sr)\n",
    "sf.write(\"cache/wav_after_mix_normalized.wav\", normalize_audio_energy(new_wav_chunk), sr)"
   ]
  },
  {
   "cell_type": "code",
   "execution_count": 14,
   "metadata": {},
   "outputs": [],
   "source": [
    "# Test the augmenter\n",
    "PATH_TO_SKYLINE = \"/Users/simonmyhre/workdir/gitdir/skyline\"\n",
    "import sys\n",
    "\n",
    "sys.path.append(PATH_TO_SKYLINE)\n",
    "from cirrus.datamaker.augmenter.augmenter import Augmenter\n"
   ]
  },
  {
   "cell_type": "code",
   "execution_count": 16,
   "metadata": {},
   "outputs": [],
   "source": [
    "augmenter = Augmenter(path_to_input_data=PATH_TO_INPUT_DATA)\n",
    "wav_augmented = augmenter.augment_file(wav_chunk, sr, \"mix_1\")\n",
    "sf.write(\"cache/wav_augmented.wav\", wav_augmented, sr)\n"
   ]
  },
  {
   "cell_type": "code",
   "execution_count": null,
   "metadata": {},
   "outputs": [],
   "source": []
  }
 ],
 "metadata": {
  "kernelspec": {
   "display_name": "skylinevenv",
   "language": "python",
   "name": "python3"
  },
  "language_info": {
   "codemirror_mode": {
    "name": "ipython",
    "version": 3
   },
   "file_extension": ".py",
   "mimetype": "text/x-python",
   "name": "python",
   "nbconvert_exporter": "python",
   "pygments_lexer": "ipython3",
   "version": "3.10.11"
  }
 },
 "nbformat": 4,
 "nbformat_minor": 2
}
